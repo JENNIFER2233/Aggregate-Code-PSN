{
  "nbformat": 4,
  "nbformat_minor": 0,
  "metadata": {
    "colab": {
      "provenance": [],
      "authorship_tag": "ABX9TyNsiXPDNX/OeymhsBEKj7hV",
      "include_colab_link": true
    },
    "kernelspec": {
      "name": "python3",
      "display_name": "Python 3"
    },
    "language_info": {
      "name": "python"
    }
  },
  "cells": [
    {
      "cell_type": "markdown",
      "metadata": {
        "id": "view-in-github",
        "colab_type": "text"
      },
      "source": [
        "<a href=\"https://colab.research.google.com/github/JENNIFER2233/Aggregate-Code-PSN/blob/main/Aggregate_Pratice.ipynb\" target=\"_parent\"><img src=\"https://colab.research.google.com/assets/colab-badge.svg\" alt=\"Open In Colab\"/></a>"
      ]
    },
    {
      "cell_type": "code",
      "execution_count": null,
      "metadata": {
        "id": "uVHgFB3tKEdw"
      },
      "outputs": [],
      "source": [
        "def calculateaggregate(numbers):\n",
        "  aggregate=sum (numbers)\n",
        "  return aggregate\n"
      ]
    },
    {
      "cell_type": "code",
      "source": [
        "import os\n",
        "\n",
        "#Initialize aggegate variable\n",
        "aggregate =0\n",
        "\n",
        "#Path to the directory containing the prediction\n",
        "prediction_base_dir = \"/scratch/jmorones/dyn_psn\"\n",
        "\n",
        "#Iterate through PSN folders (0 to 72)\n",
        "for psn_number in range(73):\n",
        "  psn_folder_path = prediction_base_dir + \"/dyn_psn\" + str(psn_number)\n",
        "\n",
        "#Iterate through pediction files (0 to 5) with each PSN folder\n",
        "  for prediction_number in range(6):\n",
        "    prediction_file_path = psn_folder_path + \"/output/Classification-result/Prediction\" + str(prediction_number) + \".txt\"\n",
        "\n",
        "\n",
        "#Process the file and extract necessary data\n",
        "with open(prediction_file_path, 'r') as file:\n",
        "  protein_label = file.readline().strip()\n",
        "  protein_actual = float(file.readline().strip())\n",
        "  protein_prediction = float(file.readline().strip())\n",
        "\n",
        "\n",
        "#Calculate the aggregate for each prediction file\n",
        "prediction_aggregate = protein_actual + protein_prediction\n",
        "\n",
        "#Update the aggregate value\n",
        "aggregate += prediction_aggregate\n",
        "\n",
        "#Print the final aggregate value\n",
        "print(\"The aggegate is:\",aggregate)\n",
        "\n"
      ],
      "metadata": {
        "id": "HtIzcFcskzgG"
      },
      "execution_count": null,
      "outputs": []
    }
  ]
}