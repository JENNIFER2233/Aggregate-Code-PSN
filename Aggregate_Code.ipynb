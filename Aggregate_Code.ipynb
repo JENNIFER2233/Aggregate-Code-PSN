{
  "nbformat": 4,
  "nbformat_minor": 0,
  "metadata": {
    "colab": {
      "provenance": [],
      "authorship_tag": "ABX9TyPF+TTrYqEED2UnMxvXPXZB",
      "include_colab_link": true
    },
    "kernelspec": {
      "name": "python3",
      "display_name": "Python 3"
    },
    "language_info": {
      "name": "python"
    }
  },
  "cells": [
    {
      "cell_type": "markdown",
      "metadata": {
        "id": "view-in-github",
        "colab_type": "text"
      },
      "source": [
        "<a href=\"https://colab.research.google.com/github/JENNIFER2233/Aggregate-Code-PSN/blob/main/Aggregate_Code.ipynb\" target=\"_parent\"><img src=\"https://colab.research.google.com/assets/colab-badge.svg\" alt=\"Open In Colab\"/></a>"
      ]
    },
    {
      "cell_type": "code",
      "source": [
        "import os\n",
        "\n",
        "#Initialize aggegate variable\n",
        "aggregate =0\n",
        "\n",
        "#Path to the directory containing the prediction\n",
        "prediction_base_dir = \"/scratch/jmorones/dyn_psn\"\n",
        "\n",
        "#Iterate through PSN folders (0 to 72)\n",
        "for psn_number in range(73):\n",
        "  psn_folder_path = prediction_base_dir + \"/dyn_psn\" + str(psn_number)\n",
        "\n",
        "#Iterate through pediction files (0 to 5) with each PSN folder\n",
        "  for prediction_number in range(6):\n",
        "    prediction_file_path = psn_folder_path + \"/output/Classification-result/Prediction\" + str(prediction_number) + \".txt\"\n",
        "\n",
        "\n",
        "#Process the file and extract necessary data\n",
        "with open(prediction_file_path, 'r') as file:\n",
        "  protein_label = file.readline().strip()\n",
        "  protein_actual = float(file.readline().strip())\n",
        "  protein_prediction = float(file.readline().strip())\n",
        "\n",
        "\n",
        "#Calculate the aggregate for each prediction file\n",
        "prediction_aggregate = protein_actual + protein_prediction\n",
        "\n",
        "#Update the aggregate value\n",
        "aggregate += prediction_aggregate\n",
        "\n",
        "#Print the final aggregate value\n",
        "print(\"The aggegate is:\",aggregate)\n",
        "\n"
      ],
      "metadata": {
        "id": "HtIzcFcskzgG",
        "colab": {
          "base_uri": "https://localhost:8080/",
          "height": 235
        },
        "outputId": "cbd2a629-45e1-4665-a36d-7377bc503747"
      },
      "execution_count": 2,
      "outputs": [
        {
          "output_type": "error",
          "ename": "FileNotFoundError",
          "evalue": "ignored",
          "traceback": [
            "\u001b[0;31m---------------------------------------------------------------------------\u001b[0m",
            "\u001b[0;31mFileNotFoundError\u001b[0m                         Traceback (most recent call last)",
            "\u001b[0;32m<ipython-input-2-18f213ac16ee>\u001b[0m in \u001b[0;36m<cell line: 19>\u001b[0;34m()\u001b[0m\n\u001b[1;32m     17\u001b[0m \u001b[0;34m\u001b[0m\u001b[0m\n\u001b[1;32m     18\u001b[0m \u001b[0;31m#Process the file and extract necessary data\u001b[0m\u001b[0;34m\u001b[0m\u001b[0;34m\u001b[0m\u001b[0m\n\u001b[0;32m---> 19\u001b[0;31m \u001b[0;32mwith\u001b[0m \u001b[0mopen\u001b[0m\u001b[0;34m(\u001b[0m\u001b[0mprediction_file_path\u001b[0m\u001b[0;34m,\u001b[0m \u001b[0;34m'r'\u001b[0m\u001b[0;34m)\u001b[0m \u001b[0;32mas\u001b[0m \u001b[0mfile\u001b[0m\u001b[0;34m:\u001b[0m\u001b[0;34m\u001b[0m\u001b[0;34m\u001b[0m\u001b[0m\n\u001b[0m\u001b[1;32m     20\u001b[0m   \u001b[0mprotein_label\u001b[0m \u001b[0;34m=\u001b[0m \u001b[0mfile\u001b[0m\u001b[0;34m.\u001b[0m\u001b[0mreadline\u001b[0m\u001b[0;34m(\u001b[0m\u001b[0;34m)\u001b[0m\u001b[0;34m.\u001b[0m\u001b[0mstrip\u001b[0m\u001b[0;34m(\u001b[0m\u001b[0;34m)\u001b[0m\u001b[0;34m\u001b[0m\u001b[0;34m\u001b[0m\u001b[0m\n\u001b[1;32m     21\u001b[0m   \u001b[0mprotein_actual\u001b[0m \u001b[0;34m=\u001b[0m \u001b[0mfloat\u001b[0m\u001b[0;34m(\u001b[0m\u001b[0mfile\u001b[0m\u001b[0;34m.\u001b[0m\u001b[0mreadline\u001b[0m\u001b[0;34m(\u001b[0m\u001b[0;34m)\u001b[0m\u001b[0;34m.\u001b[0m\u001b[0mstrip\u001b[0m\u001b[0;34m(\u001b[0m\u001b[0;34m)\u001b[0m\u001b[0;34m)\u001b[0m\u001b[0;34m\u001b[0m\u001b[0;34m\u001b[0m\u001b[0m\n",
            "\u001b[0;31mFileNotFoundError\u001b[0m: [Errno 2] No such file or directory: '/scratch/jmorones/dyn_psn/dyn_psn72/output/Classification-result/Prediction5.txt'"
          ]
        }
      ]
    }
  ]
}